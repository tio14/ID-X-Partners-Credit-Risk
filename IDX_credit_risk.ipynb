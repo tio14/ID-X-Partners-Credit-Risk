{
  "nbformat": 4,
  "nbformat_minor": 0,
  "metadata": {
    "colab": {
      "provenance": []
    },
    "kernelspec": {
      "name": "python3",
      "display_name": "Python 3"
    },
    "language_info": {
      "name": "python"
    },
    "accelerator": "GPU",
    "gpuClass": "standard"
  },
  "cells": [
    {
      "cell_type": "markdown",
      "source": [
        "**Data Preparation**\n",
        "\n",
        "---"
      ],
      "metadata": {
        "id": "bBCH5IQl91Ki"
      }
    },
    {
      "cell_type": "code",
      "execution_count": 1,
      "metadata": {
        "colab": {
          "base_uri": "https://localhost:8080/",
          "height": 456
        },
        "id": "soOmexsATtUi",
        "outputId": "2f2d203e-c691-41e3-99ea-712a9820c7ce"
      },
      "outputs": [
        {
          "output_type": "stream",
          "name": "stdout",
          "text": [
            "Mounted at /content/gdrive\n"
          ]
        },
        {
          "output_type": "stream",
          "name": "stderr",
          "text": [
            "/usr/local/lib/python3.8/dist-packages/IPython/core/interactiveshell.py:3326: DtypeWarning: Columns (20) have mixed types.Specify dtype option on import or set low_memory=False.\n",
            "  exec(code_obj, self.user_global_ns, self.user_ns)\n"
          ]
        },
        {
          "output_type": "execute_result",
          "data": {
            "text/plain": [
              "   Unnamed: 0       id  member_id  loan_amnt  funded_amnt  funded_amnt_inv  \\\n",
              "0           0  1077501    1296599       5000         5000           4975.0   \n",
              "1           1  1077430    1314167       2500         2500           2500.0   \n",
              "2           2  1077175    1313524       2400         2400           2400.0   \n",
              "3           3  1076863    1277178      10000        10000          10000.0   \n",
              "4           4  1075358    1311748       3000         3000           3000.0   \n",
              "\n",
              "         term  int_rate  installment grade  ... total_bal_il il_util  \\\n",
              "0   36 months     10.65       162.87     B  ...          NaN     NaN   \n",
              "1   60 months     15.27        59.83     C  ...          NaN     NaN   \n",
              "2   36 months     15.96        84.33     C  ...          NaN     NaN   \n",
              "3   36 months     13.49       339.31     C  ...          NaN     NaN   \n",
              "4   60 months     12.69        67.79     B  ...          NaN     NaN   \n",
              "\n",
              "  open_rv_12m open_rv_24m  max_bal_bc all_util total_rev_hi_lim inq_fi  \\\n",
              "0         NaN         NaN         NaN      NaN              NaN    NaN   \n",
              "1         NaN         NaN         NaN      NaN              NaN    NaN   \n",
              "2         NaN         NaN         NaN      NaN              NaN    NaN   \n",
              "3         NaN         NaN         NaN      NaN              NaN    NaN   \n",
              "4         NaN         NaN         NaN      NaN              NaN    NaN   \n",
              "\n",
              "  total_cu_tl inq_last_12m  \n",
              "0         NaN          NaN  \n",
              "1         NaN          NaN  \n",
              "2         NaN          NaN  \n",
              "3         NaN          NaN  \n",
              "4         NaN          NaN  \n",
              "\n",
              "[5 rows x 75 columns]"
            ],
            "text/html": [
              "\n",
              "  <div id=\"df-2c1384a4-2b93-4ad6-b9c5-22f743672a9d\">\n",
              "    <div class=\"colab-df-container\">\n",
              "      <div>\n",
              "<style scoped>\n",
              "    .dataframe tbody tr th:only-of-type {\n",
              "        vertical-align: middle;\n",
              "    }\n",
              "\n",
              "    .dataframe tbody tr th {\n",
              "        vertical-align: top;\n",
              "    }\n",
              "\n",
              "    .dataframe thead th {\n",
              "        text-align: right;\n",
              "    }\n",
              "</style>\n",
              "<table border=\"1\" class=\"dataframe\">\n",
              "  <thead>\n",
              "    <tr style=\"text-align: right;\">\n",
              "      <th></th>\n",
              "      <th>Unnamed: 0</th>\n",
              "      <th>id</th>\n",
              "      <th>member_id</th>\n",
              "      <th>loan_amnt</th>\n",
              "      <th>funded_amnt</th>\n",
              "      <th>funded_amnt_inv</th>\n",
              "      <th>term</th>\n",
              "      <th>int_rate</th>\n",
              "      <th>installment</th>\n",
              "      <th>grade</th>\n",
              "      <th>...</th>\n",
              "      <th>total_bal_il</th>\n",
              "      <th>il_util</th>\n",
              "      <th>open_rv_12m</th>\n",
              "      <th>open_rv_24m</th>\n",
              "      <th>max_bal_bc</th>\n",
              "      <th>all_util</th>\n",
              "      <th>total_rev_hi_lim</th>\n",
              "      <th>inq_fi</th>\n",
              "      <th>total_cu_tl</th>\n",
              "      <th>inq_last_12m</th>\n",
              "    </tr>\n",
              "  </thead>\n",
              "  <tbody>\n",
              "    <tr>\n",
              "      <th>0</th>\n",
              "      <td>0</td>\n",
              "      <td>1077501</td>\n",
              "      <td>1296599</td>\n",
              "      <td>5000</td>\n",
              "      <td>5000</td>\n",
              "      <td>4975.0</td>\n",
              "      <td>36 months</td>\n",
              "      <td>10.65</td>\n",
              "      <td>162.87</td>\n",
              "      <td>B</td>\n",
              "      <td>...</td>\n",
              "      <td>NaN</td>\n",
              "      <td>NaN</td>\n",
              "      <td>NaN</td>\n",
              "      <td>NaN</td>\n",
              "      <td>NaN</td>\n",
              "      <td>NaN</td>\n",
              "      <td>NaN</td>\n",
              "      <td>NaN</td>\n",
              "      <td>NaN</td>\n",
              "      <td>NaN</td>\n",
              "    </tr>\n",
              "    <tr>\n",
              "      <th>1</th>\n",
              "      <td>1</td>\n",
              "      <td>1077430</td>\n",
              "      <td>1314167</td>\n",
              "      <td>2500</td>\n",
              "      <td>2500</td>\n",
              "      <td>2500.0</td>\n",
              "      <td>60 months</td>\n",
              "      <td>15.27</td>\n",
              "      <td>59.83</td>\n",
              "      <td>C</td>\n",
              "      <td>...</td>\n",
              "      <td>NaN</td>\n",
              "      <td>NaN</td>\n",
              "      <td>NaN</td>\n",
              "      <td>NaN</td>\n",
              "      <td>NaN</td>\n",
              "      <td>NaN</td>\n",
              "      <td>NaN</td>\n",
              "      <td>NaN</td>\n",
              "      <td>NaN</td>\n",
              "      <td>NaN</td>\n",
              "    </tr>\n",
              "    <tr>\n",
              "      <th>2</th>\n",
              "      <td>2</td>\n",
              "      <td>1077175</td>\n",
              "      <td>1313524</td>\n",
              "      <td>2400</td>\n",
              "      <td>2400</td>\n",
              "      <td>2400.0</td>\n",
              "      <td>36 months</td>\n",
              "      <td>15.96</td>\n",
              "      <td>84.33</td>\n",
              "      <td>C</td>\n",
              "      <td>...</td>\n",
              "      <td>NaN</td>\n",
              "      <td>NaN</td>\n",
              "      <td>NaN</td>\n",
              "      <td>NaN</td>\n",
              "      <td>NaN</td>\n",
              "      <td>NaN</td>\n",
              "      <td>NaN</td>\n",
              "      <td>NaN</td>\n",
              "      <td>NaN</td>\n",
              "      <td>NaN</td>\n",
              "    </tr>\n",
              "    <tr>\n",
              "      <th>3</th>\n",
              "      <td>3</td>\n",
              "      <td>1076863</td>\n",
              "      <td>1277178</td>\n",
              "      <td>10000</td>\n",
              "      <td>10000</td>\n",
              "      <td>10000.0</td>\n",
              "      <td>36 months</td>\n",
              "      <td>13.49</td>\n",
              "      <td>339.31</td>\n",
              "      <td>C</td>\n",
              "      <td>...</td>\n",
              "      <td>NaN</td>\n",
              "      <td>NaN</td>\n",
              "      <td>NaN</td>\n",
              "      <td>NaN</td>\n",
              "      <td>NaN</td>\n",
              "      <td>NaN</td>\n",
              "      <td>NaN</td>\n",
              "      <td>NaN</td>\n",
              "      <td>NaN</td>\n",
              "      <td>NaN</td>\n",
              "    </tr>\n",
              "    <tr>\n",
              "      <th>4</th>\n",
              "      <td>4</td>\n",
              "      <td>1075358</td>\n",
              "      <td>1311748</td>\n",
              "      <td>3000</td>\n",
              "      <td>3000</td>\n",
              "      <td>3000.0</td>\n",
              "      <td>60 months</td>\n",
              "      <td>12.69</td>\n",
              "      <td>67.79</td>\n",
              "      <td>B</td>\n",
              "      <td>...</td>\n",
              "      <td>NaN</td>\n",
              "      <td>NaN</td>\n",
              "      <td>NaN</td>\n",
              "      <td>NaN</td>\n",
              "      <td>NaN</td>\n",
              "      <td>NaN</td>\n",
              "      <td>NaN</td>\n",
              "      <td>NaN</td>\n",
              "      <td>NaN</td>\n",
              "      <td>NaN</td>\n",
              "    </tr>\n",
              "  </tbody>\n",
              "</table>\n",
              "<p>5 rows × 75 columns</p>\n",
              "</div>\n",
              "      <button class=\"colab-df-convert\" onclick=\"convertToInteractive('df-2c1384a4-2b93-4ad6-b9c5-22f743672a9d')\"\n",
              "              title=\"Convert this dataframe to an interactive table.\"\n",
              "              style=\"display:none;\">\n",
              "        \n",
              "  <svg xmlns=\"http://www.w3.org/2000/svg\" height=\"24px\"viewBox=\"0 0 24 24\"\n",
              "       width=\"24px\">\n",
              "    <path d=\"M0 0h24v24H0V0z\" fill=\"none\"/>\n",
              "    <path d=\"M18.56 5.44l.94 2.06.94-2.06 2.06-.94-2.06-.94-.94-2.06-.94 2.06-2.06.94zm-11 1L8.5 8.5l.94-2.06 2.06-.94-2.06-.94L8.5 2.5l-.94 2.06-2.06.94zm10 10l.94 2.06.94-2.06 2.06-.94-2.06-.94-.94-2.06-.94 2.06-2.06.94z\"/><path d=\"M17.41 7.96l-1.37-1.37c-.4-.4-.92-.59-1.43-.59-.52 0-1.04.2-1.43.59L10.3 9.45l-7.72 7.72c-.78.78-.78 2.05 0 2.83L4 21.41c.39.39.9.59 1.41.59.51 0 1.02-.2 1.41-.59l7.78-7.78 2.81-2.81c.8-.78.8-2.07 0-2.86zM5.41 20L4 18.59l7.72-7.72 1.47 1.35L5.41 20z\"/>\n",
              "  </svg>\n",
              "      </button>\n",
              "      \n",
              "  <style>\n",
              "    .colab-df-container {\n",
              "      display:flex;\n",
              "      flex-wrap:wrap;\n",
              "      gap: 12px;\n",
              "    }\n",
              "\n",
              "    .colab-df-convert {\n",
              "      background-color: #E8F0FE;\n",
              "      border: none;\n",
              "      border-radius: 50%;\n",
              "      cursor: pointer;\n",
              "      display: none;\n",
              "      fill: #1967D2;\n",
              "      height: 32px;\n",
              "      padding: 0 0 0 0;\n",
              "      width: 32px;\n",
              "    }\n",
              "\n",
              "    .colab-df-convert:hover {\n",
              "      background-color: #E2EBFA;\n",
              "      box-shadow: 0px 1px 2px rgba(60, 64, 67, 0.3), 0px 1px 3px 1px rgba(60, 64, 67, 0.15);\n",
              "      fill: #174EA6;\n",
              "    }\n",
              "\n",
              "    [theme=dark] .colab-df-convert {\n",
              "      background-color: #3B4455;\n",
              "      fill: #D2E3FC;\n",
              "    }\n",
              "\n",
              "    [theme=dark] .colab-df-convert:hover {\n",
              "      background-color: #434B5C;\n",
              "      box-shadow: 0px 1px 3px 1px rgba(0, 0, 0, 0.15);\n",
              "      filter: drop-shadow(0px 1px 2px rgba(0, 0, 0, 0.3));\n",
              "      fill: #FFFFFF;\n",
              "    }\n",
              "  </style>\n",
              "\n",
              "      <script>\n",
              "        const buttonEl =\n",
              "          document.querySelector('#df-2c1384a4-2b93-4ad6-b9c5-22f743672a9d button.colab-df-convert');\n",
              "        buttonEl.style.display =\n",
              "          google.colab.kernel.accessAllowed ? 'block' : 'none';\n",
              "\n",
              "        async function convertToInteractive(key) {\n",
              "          const element = document.querySelector('#df-2c1384a4-2b93-4ad6-b9c5-22f743672a9d');\n",
              "          const dataTable =\n",
              "            await google.colab.kernel.invokeFunction('convertToInteractive',\n",
              "                                                     [key], {});\n",
              "          if (!dataTable) return;\n",
              "\n",
              "          const docLinkHtml = 'Like what you see? Visit the ' +\n",
              "            '<a target=\"_blank\" href=https://colab.research.google.com/notebooks/data_table.ipynb>data table notebook</a>'\n",
              "            + ' to learn more about interactive tables.';\n",
              "          element.innerHTML = '';\n",
              "          dataTable['output_type'] = 'display_data';\n",
              "          await google.colab.output.renderOutput(dataTable, element);\n",
              "          const docLink = document.createElement('div');\n",
              "          docLink.innerHTML = docLinkHtml;\n",
              "          element.appendChild(docLink);\n",
              "        }\n",
              "      </script>\n",
              "    </div>\n",
              "  </div>\n",
              "  "
            ]
          },
          "metadata": {},
          "execution_count": 1
        }
      ],
      "source": [
        "# Load data\n",
        "import pandas as pd\n",
        "import numpy as np\n",
        "from google.colab import drive\n",
        "from pandas import read_csv\n",
        "drive.mount('/content/gdrive')\n",
        "filename = 'gdrive/MyDrive/Dataset/IDXPartner/loan_data_2007_2014.csv'\n",
        "dataframe = read_csv(filename)\n",
        "dataframe.head()"
      ]
    },
    {
      "cell_type": "code",
      "source": [
        "# Creating Y (Dependent) variable\n",
        "dataframe.purpose.value_counts()"
      ],
      "metadata": {
        "colab": {
          "base_uri": "https://localhost:8080/"
        },
        "id": "PhdBromlUe7e",
        "outputId": "784fd429-80ed-4a74-914a-2753f64c6688"
      },
      "execution_count": 2,
      "outputs": [
        {
          "output_type": "execute_result",
          "data": {
            "text/plain": [
              "debt_consolidation    274195\n",
              "credit_card           104157\n",
              "home_improvement       26537\n",
              "other                  23690\n",
              "major_purchase          9828\n",
              "small_business          7013\n",
              "car                     5397\n",
              "medical                 4602\n",
              "moving                  2994\n",
              "vacation                2487\n",
              "wedding                 2343\n",
              "house                   2269\n",
              "educational              422\n",
              "renewable_energy         351\n",
              "Name: purpose, dtype: int64"
            ]
          },
          "metadata": {},
          "execution_count": 2
        }
      ]
    },
    {
      "cell_type": "code",
      "source": [
        "def categorize_target(row):\n",
        "  if row['loan_status'] == 'Fully Paid':\n",
        "    return 0\n",
        "  elif row['loan_status'] == 'Charged Off' or row['loan_status'] == 'Late (16-30 days)' or row['loan_status'] == 'Late (31-120 days)':\n",
        "    return 1\n",
        "  else:\n",
        "    return 100 # Not Apllicable\n",
        "\n",
        "dataframe['target'] = dataframe.apply(lambda row: categorize_target(row), axis=1)"
      ],
      "metadata": {
        "id": "CdNN20TwAejz"
      },
      "execution_count": 3,
      "outputs": []
    },
    {
      "cell_type": "code",
      "source": [
        "dataframe['target'].value_counts()"
      ],
      "metadata": {
        "colab": {
          "base_uri": "https://localhost:8080/"
        },
        "id": "tZ1beh16G01-",
        "outputId": "4d3e50fc-d568-409d-b249-30e7b1539e99"
      },
      "execution_count": 4,
      "outputs": [
        {
          "output_type": "execute_result",
          "data": {
            "text/plain": [
              "100    230953\n",
              "0      184739\n",
              "1       50593\n",
              "Name: target, dtype: int64"
            ]
          },
          "metadata": {},
          "execution_count": 4
        }
      ]
    },
    {
      "cell_type": "code",
      "source": [
        "ori_df = dataframe\n",
        "df = dataframe[dataframe['target'] <= 1].reset_index()"
      ],
      "metadata": {
        "id": "ihB-GyN3HaQ8"
      },
      "execution_count": 5,
      "outputs": []
    },
    {
      "cell_type": "code",
      "source": [
        "# Searching for a potential feature\n",
        "df.emp_length.value_counts()"
      ],
      "metadata": {
        "colab": {
          "base_uri": "https://localhost:8080/"
        },
        "id": "ezxAFjEEIWKw",
        "outputId": "b90e9287-c8cc-4d8f-b4d6-521e47f3e30d"
      },
      "execution_count": 6,
      "outputs": [
        {
          "output_type": "execute_result",
          "data": {
            "text/plain": [
              "10+ years    70579\n",
              "2 years      21944\n",
              "< 1 year     19469\n",
              "3 years      19062\n",
              "5 years      17074\n",
              "1 year       15665\n",
              "4 years      15155\n",
              "6 years      14114\n",
              "7 years      13316\n",
              "8 years      10931\n",
              "9 years       8880\n",
              "Name: emp_length, dtype: int64"
            ]
          },
          "metadata": {},
          "execution_count": 6
        }
      ]
    },
    {
      "cell_type": "code",
      "source": [
        "import matplotlib.pyplot as plt\n",
        "import seaborn as sns\n",
        "plt.rc(\"font\", size=14)\n",
        "sns.set(style=\"whitegrid\", color_codes=True)"
      ],
      "metadata": {
        "id": "dIW-L8ioKWG8"
      },
      "execution_count": 7,
      "outputs": []
    },
    {
      "cell_type": "code",
      "source": [
        "sns.countplot(x='target', data=df, palette='hls')\n",
        "plt.show()"
      ],
      "metadata": {
        "colab": {
          "base_uri": "https://localhost:8080/",
          "height": 285
        },
        "id": "I5qvcAxPMrnQ",
        "outputId": "31c5af4e-f73a-4808-a528-aba1274c31eb"
      },
      "execution_count": 8,
      "outputs": [
        {
          "output_type": "display_data",
          "data": {
            "text/plain": [
              "<Figure size 432x288 with 1 Axes>"
            ],
            "image/png": "[encoded data removed]"
          },
          "metadata": {}
        }
      ]
    },
    {
      "cell_type": "code",
      "source": [
        "pd.crosstab(df.n_purpose, df.target).plot(kind='bar')"
      ],
      "metadata": {
        "colab": {
          "base_uri": "https://localhost:8080/",
          "height": 731
        },
        "id": "SaiWctOoNG9d",
        "outputId": "5e151f72-00a0-4db7-faae-d7b846c22660"
      },
      "execution_count": 98,
      "outputs": [
        {
          "output_type": "execute_result",
          "data": {
            "text/plain": [
              "<matplotlib.axes._subplots.AxesSubplot at 0x7faf4e2a5a60>"
            ]
          },
          "metadata": {},
          "execution_count": 98
        },
        {
          "output_type": "display_data",
          "data": {
            "text/plain": [
              "<Figure size 720x720 with 1 Axes>"
            ],
            "image/png": "[encoded data removed]"
          },
          "metadata": {}
        }
      ]
    },
    {
      "cell_type": "code",
      "source": [
        "sns.boxplot(x='target', y='annual_inc', data=df, showfliers=False)"
      ],
      "metadata": {
        "colab": {
          "base_uri": "https://localhost:8080/",
          "height": 628
        },
        "id": "OtZwHEgJ3W5j",
        "outputId": "6e76b18e-173d-42ac-9886-88ef84bdb75e"
      },
      "execution_count": 99,
      "outputs": [
        {
          "output_type": "execute_result",
          "data": {
            "text/plain": [
              "<matplotlib.axes._subplots.AxesSubplot at 0x7faf4d1b3b20>"
            ]
          },
          "metadata": {},
          "execution_count": 99
        },
        {
          "output_type": "display_data",
          "data": {
            "text/plain": [
              "<Figure size 720x720 with 1 Axes>"
            ],
            "image/png": "[encoded data removed]"
          },
          "metadata": {}
        }
      ]
    },
    {
      "cell_type": "code",
      "source": [
        "# Binning low quantity cateogry\n",
        "df['n_home_ownership'] = np.where(df['home_ownership'].\n",
        "                                  isin(['MORTGAGE', 'OWN', 'RENT']),\n",
        "                                  df['home_ownership'].\n",
        "                                  str.title(), 'OTHER'\n",
        "                                  )\n",
        "df['n_purpose'] = np.where(df['purpose'].\n",
        "                           isin(['debt_consolidation', 'credit_card', 'home_improvement']),\n",
        "                           df['purpose'].\n",
        "                           str.title(), 'other'\n",
        "                           )"
      ],
      "metadata": {
        "id": "M-9NfWl_q4UD"
      },
      "execution_count": 10,
      "outputs": []
    },
    {
      "cell_type": "code",
      "source": [
        "# String Formatting\n",
        "df['emp_length'] = df['emp_length'].replace(['< 1 year'], '0-1 year')"
      ],
      "metadata": {
        "id": "1aWeDJ3MCyMR"
      },
      "execution_count": 11,
      "outputs": []
    },
    {
      "cell_type": "code",
      "source": [
        "# Preparing categorical features\n",
        "categorical_column = ['term', 'grade', 'emp_length', \n",
        "                      'n_home_ownership',\n",
        "                      'n_purpose']\n",
        "categorical_dataframe = df[categorical_column]\n",
        "cat_feat = pd.get_dummies(df[categorical_column])"
      ],
      "metadata": {
        "id": "vBTybEx3NhUc"
      },
      "execution_count": 45,
      "outputs": []
    },
    {
      "cell_type": "code",
      "source": [
        "# Preparing numerical features\n",
        "from sklearn.preprocessing import StandardScaler\n",
        "from sklearn.preprocessing import MinMaxScaler\n",
        "\n",
        "numerical_column = ['int_rate', 'annual_inc']\n",
        "numerical_dataframe = df[numerical_column]\n",
        "#scaler = StandardScaler()\n",
        "scaler = MinMaxScaler()\n",
        "scaled_numerical_dataframe = scaler.fit_transform(numerical_dataframe)\n",
        "num_feat = pd.DataFrame(scaled_numerical_dataframe, columns=numerical_column)"
      ],
      "metadata": {
        "id": "eXrSCTwEZ4By"
      },
      "execution_count": 13,
      "outputs": []
    },
    {
      "cell_type": "code",
      "source": [
        "x = cat_feat.merge(num_feat, left_index=True, right_index=True)\n",
        "#x = cat_feat\n",
        "y = df['target']"
      ],
      "metadata": {
        "id": "F2fYC5TuSYGK"
      },
      "execution_count": 83,
      "outputs": []
    },
    {
      "cell_type": "code",
      "source": [
        "x = x.apply(pd.to_numeric)\n",
        "y = y.apply(pd.to_numeric)"
      ],
      "metadata": {
        "id": "ZPf2H760PrAJ"
      },
      "execution_count": 84,
      "outputs": []
    },
    {
      "cell_type": "code",
      "source": [
        "from sklearn.model_selection import train_test_split\n",
        "\n",
        "x_train, x_test, y_train, y_test = train_test_split(x, y, test_size=0.3)"
      ],
      "metadata": {
        "id": "lcKX_TXwMrxk"
      },
      "execution_count": 85,
      "outputs": []
    },
    {
      "cell_type": "code",
      "source": [
        "# SMOTE for imbalance data\n",
        "from imblearn.over_sampling import SMOTE\n",
        "from collections import Counter\n",
        "\n",
        "smote = SMOTE()\n",
        "x_train, y_train = smote.fit_resample(x_train, y_train)"
      ],
      "metadata": {
        "id": "1PW9J-ayWQ08"
      },
      "execution_count": 86,
      "outputs": []
    },
    {
      "cell_type": "code",
      "source": [
        "import statsmodels.api as sm\n",
        "\n",
        "logit_model = sm.Logit(y_train, x_train)\n",
        "result = logit_model.fit()\n",
        "print(result.summary2())"
      ],
      "metadata": {
        "colab": {
          "base_uri": "https://localhost:8080/"
        },
        "id": "Z_8wm9AdXxHa",
        "outputId": "5986853a-73e8-4d21-d4ca-51bcdb49b20f"
      },
      "execution_count": 87,
      "outputs": [
        {
          "output_type": "stream",
          "name": "stdout",
          "text": [
            "Optimization terminated successfully.\n",
            "         Current function value: 0.630760\n",
            "         Iterations 6\n",
            "                                 Results: Logit\n",
            "================================================================================\n",
            "Model:                    Logit                Pseudo R-squared:     0.090      \n",
            "Dependent Variable:       target               AIC:                  326440.6336\n",
            "Date:                     2023-01-29 12:19     BIC:                  326754.5387\n",
            "No. Observations:         258720               Log-Likelihood:       -1.6319e+05\n",
            "Df Model:                 29                   LL-Null:              -1.7933e+05\n",
            "Df Residuals:             258690               LLR p-value:          0.0000     \n",
            "Converged:                1.0000               Scale:                1.0000     \n",
            "No. Iterations:           6.0000                                                \n",
            "--------------------------------------------------------------------------------\n",
            "                              Coef.   Std.Err.    z     P>|z|   [0.025   0.975] \n",
            "--------------------------------------------------------------------------------\n",
            "term_ 36 months               -0.7636   0.1693  -4.5091 0.0000  -1.0955  -0.4317\n",
            "term_ 60 months               -0.2921   0.1695  -1.7236 0.0848  -0.6243   0.0401\n",
            "grade_A                        1.0496   0.1901   5.5217 0.0000   0.6771   1.4222\n",
            "grade_B                        1.2626   0.1889   6.6851 0.0000   0.8924   1.6328\n",
            "grade_C                        1.4070   0.1887   7.4576 0.0000   1.0372   1.7768\n",
            "grade_D                        1.3987   0.1890   7.4014 0.0000   1.0283   1.7690\n",
            "grade_E                        1.3214   0.1899   6.9585 0.0000   0.9492   1.6936\n",
            "grade_F                        1.0947   0.1918   5.7077 0.0000   0.7188   1.4707\n",
            "grade_G                        1.1117   0.1956   5.6828 0.0000   0.7283   1.4952\n",
            "emp_length_0-1 year           -0.5952   0.0243 -24.4461 0.0000  -0.6430  -0.5475\n",
            "emp_length_1 year             -0.6844   0.0256 -26.7261 0.0000  -0.7346  -0.6342\n",
            "emp_length_10+ years          -0.6209   0.0211 -29.4129 0.0000  -0.6623  -0.5796\n",
            "emp_length_2 years            -0.6473   0.0239 -27.0767 0.0000  -0.6942  -0.6005\n",
            "emp_length_3 years            -0.6419   0.0245 -26.1786 0.0000  -0.6899  -0.5938\n",
            "emp_length_4 years            -0.6853   0.0257 -26.6712 0.0000  -0.7357  -0.6349\n",
            "emp_length_5 years            -0.6443   0.0250 -25.7407 0.0000  -0.6933  -0.5952\n",
            "emp_length_6 years            -0.6169   0.0260 -23.7674 0.0000  -0.6677  -0.5660\n",
            "emp_length_7 years            -0.6265   0.0263 -23.8302 0.0000  -0.6780  -0.5750\n",
            "emp_length_8 years            -0.6175   0.0276 -22.3346 0.0000  -0.6716  -0.5633\n",
            "emp_length_9 years            -0.5854   0.0291 -20.1259 0.0000  -0.6424  -0.5284\n",
            "n_home_ownership_Mortgage     -0.1161   0.1601  -0.7253 0.4682  -0.4298   0.1976\n",
            "n_home_ownership_OTHER        -1.0682   0.2668  -4.0041 0.0001  -1.5911  -0.5453\n",
            "n_home_ownership_Own          -0.1161   0.1604  -0.7242 0.4690  -0.4304   0.1982\n",
            "n_home_ownership_Rent          0.0070   0.1601   0.0435 0.9653  -0.3067   0.3207\n",
            "n_purpose_Credit_Card         -0.6708   0.1553  -4.3190 0.0000  -0.9751  -0.3664\n",
            "n_purpose_Debt_Consolidation  -0.6461   0.1552  -4.1637 0.0000  -0.9503  -0.3420\n",
            "n_purpose_Home_Improvement    -0.6739   0.1560  -4.3206 0.0000  -0.9795  -0.3682\n",
            "n_purpose_other               -0.6970   0.1553  -4.4883 0.0000  -1.0014  -0.3927\n",
            "int_rate                       2.3972   0.0668  35.8932 0.0000   2.2663   2.5281\n",
            "annual_inc                   -44.8608   0.8855 -50.6624 0.0000 -46.5963 -43.1253\n",
            "================================================================================\n",
            "\n"
          ]
        }
      ]
    },
    {
      "cell_type": "code",
      "source": [
        "# Drop feature with p-values bigger than 0.05\n",
        "dropped_cols = ['term_ 60 months', 'n_home_ownership_Mortgage',\n",
        "                'n_home_ownership_Own', 'n_home_ownership_Rent']\n",
        "x_train = x_train.drop(dropped_cols, axis=1)\n",
        "x_test = x_test.drop(dropped_cols, axis=1)"
      ],
      "metadata": {
        "id": "2weUAEQybP9z"
      },
      "execution_count": 88,
      "outputs": []
    },
    {
      "cell_type": "code",
      "source": [
        "logit_model = sm.Logit(y_train, x_train)\n",
        "result = logit_model.fit()\n",
        "print(result.summary2())"
      ],
      "metadata": {
        "colab": {
          "base_uri": "https://localhost:8080/"
        },
        "id": "dl10BABzby_h",
        "outputId": "0f58a724-98e2-4035-bf98-98e762a69a76"
      },
      "execution_count": 89,
      "outputs": [
        {
          "output_type": "stream",
          "name": "stdout",
          "text": [
            "Optimization terminated successfully.\n",
            "         Current function value: 0.631129\n",
            "         Iterations 6\n",
            "                                 Results: Logit\n",
            "================================================================================\n",
            "Model:                    Logit                Pseudo R-squared:     0.089      \n",
            "Dependent Variable:       target               AIC:                  326623.2219\n",
            "Date:                     2023-01-29 12:21     BIC:                  326895.2730\n",
            "No. Observations:         258720               Log-Likelihood:       -1.6329e+05\n",
            "Df Model:                 25                   LL-Null:              -1.7933e+05\n",
            "Df Residuals:             258694               LLR p-value:          0.0000     \n",
            "Converged:                1.0000               Scale:                1.0000     \n",
            "No. Iterations:           6.0000                                                \n",
            "--------------------------------------------------------------------------------\n",
            "                              Coef.   Std.Err.    z     P>|z|   [0.025   0.975] \n",
            "--------------------------------------------------------------------------------\n",
            "term_ 36 months               -0.4557   0.0109 -41.8864 0.0000  -0.4770  -0.4344\n",
            "grade_A                        0.8274   0.1416   5.8423 0.0000   0.5498   1.1050\n",
            "grade_B                        1.0476   0.1410   7.4304 0.0000   0.7713   1.3240\n",
            "grade_C                        1.1972   0.1415   8.4611 0.0000   0.9199   1.4745\n",
            "grade_D                        1.1938   0.1427   8.3646 0.0000   0.9140   1.4735\n",
            "grade_E                        1.1206   0.1446   7.7479 0.0000   0.8371   1.4041\n",
            "grade_F                        0.8990   0.1478   6.0813 0.0000   0.6093   1.1888\n",
            "grade_G                        0.9205   0.1541   5.9744 0.0000   0.6186   1.2225\n",
            "emp_length_0-1 year           -0.5642   0.0242 -23.3301 0.0000  -0.6116  -0.5168\n",
            "emp_length_1 year             -0.6558   0.0255 -25.7520 0.0000  -0.7057  -0.6058\n",
            "emp_length_10+ years          -0.6199   0.0210 -29.4698 0.0000  -0.6611  -0.5786\n",
            "emp_length_2 years            -0.6219   0.0238 -26.1540 0.0000  -0.6685  -0.5753\n",
            "emp_length_3 years            -0.6200   0.0244 -25.3978 0.0000  -0.6678  -0.5722\n",
            "emp_length_4 years            -0.6638   0.0256 -25.9535 0.0000  -0.7139  -0.6137\n",
            "emp_length_5 years            -0.6269   0.0249 -25.1404 0.0000  -0.6758  -0.5780\n",
            "emp_length_6 years            -0.6033   0.0259 -23.3216 0.0000  -0.6540  -0.5526\n",
            "emp_length_7 years            -0.6150   0.0262 -23.4654 0.0000  -0.6664  -0.5636\n",
            "emp_length_8 years            -0.6077   0.0276 -22.0434 0.0000  -0.6617  -0.5536\n",
            "emp_length_9 years            -0.5762   0.0290 -19.8615 0.0000  -0.6331  -0.5193\n",
            "n_home_ownership_OTHER        -1.0142   0.2136  -4.7479 0.0000  -1.4329  -0.5955\n",
            "n_purpose_Credit_Card         -0.8151   0.1415  -5.7593 0.0000  -1.0925  -0.5377\n",
            "n_purpose_Debt_Consolidation  -0.7918   0.1414  -5.6008 0.0000  -1.0689  -0.5147\n",
            "n_purpose_Home_Improvement    -0.8580   0.1422  -6.0331 0.0000  -1.1367  -0.5793\n",
            "n_purpose_other               -0.8369   0.1415  -5.9127 0.0000  -1.1144  -0.5595\n",
            "int_rate                       2.3930   0.0664  36.0555 0.0000   2.2629   2.5231\n",
            "annual_inc                   -47.1122   0.8689 -54.2182 0.0000 -48.8153 -45.4091\n",
            "================================================================================\n",
            "\n"
          ]
        }
      ]
    },
    {
      "cell_type": "markdown",
      "source": [
        "**Modeling & Evaluation**\n",
        "\n",
        "---\n",
        "\n"
      ],
      "metadata": {
        "id": "QA1XfPkQyeem"
      }
    },
    {
      "cell_type": "code",
      "source": [
        "# Logistic Regression\n",
        "from sklearn.linear_model import LogisticRegression\n",
        "\n",
        "logreg_m = LogisticRegression(max_iter=400)\n",
        "logreg_m.fit(x_train, y_train)\n",
        "y_pred = logreg_m.predict(x_test)"
      ],
      "metadata": {
        "id": "daByi3NCzJzJ"
      },
      "execution_count": 90,
      "outputs": []
    },
    {
      "cell_type": "code",
      "source": [
        "from sklearn.metrics import classification_report, accuracy_score\n",
        "\n",
        "print(accuracy_score(y_test, y_pred))\n",
        "print(classification_report(y_test, y_pred))"
      ],
      "metadata": {
        "colab": {
          "base_uri": "https://localhost:8080/"
        },
        "id": "-A2uuxxS2FAE",
        "outputId": "e2ae1fac-0c62-4875-d319-c84203109207"
      },
      "execution_count": 91,
      "outputs": [
        {
          "output_type": "stream",
          "name": "stdout",
          "text": [
            "0.6280453257790368\n",
            "              precision    recall  f1-score   support\n",
            "\n",
            "           0       0.87      0.62      0.72     55379\n",
            "           1       0.32      0.66      0.43     15221\n",
            "\n",
            "    accuracy                           0.63     70600\n",
            "   macro avg       0.60      0.64      0.58     70600\n",
            "weighted avg       0.75      0.63      0.66     70600\n",
            "\n"
          ]
        }
      ]
    },
    {
      "cell_type": "code",
      "source": [
        "# Random Forest\n",
        "from sklearn.ensemble import RandomForestClassifier\n",
        "\n",
        "rfm = RandomForestClassifier()\n",
        "rfm.fit(x_train, y_train)\n",
        "y_pred = rfm.predict(x_test)"
      ],
      "metadata": {
        "id": "WBaD-IIT5MOV"
      },
      "execution_count": 92,
      "outputs": []
    },
    {
      "cell_type": "code",
      "source": [
        "print(accuracy_score(y_test, y_pred))\n",
        "print(classification_report(y_test, y_pred))"
      ],
      "metadata": {
        "colab": {
          "base_uri": "https://localhost:8080/"
        },
        "id": "vQr1IlGg7t04",
        "outputId": "9f815a43-ca2a-4e62-9d5f-cb091a2d8527"
      },
      "execution_count": 93,
      "outputs": [
        {
          "output_type": "stream",
          "name": "stdout",
          "text": [
            "0.6592351274787536\n",
            "              precision    recall  f1-score   support\n",
            "\n",
            "           0       0.82      0.73      0.77     55379\n",
            "           1       0.29      0.40      0.33     15221\n",
            "\n",
            "    accuracy                           0.66     70600\n",
            "   macro avg       0.55      0.56      0.55     70600\n",
            "weighted avg       0.70      0.66      0.68     70600\n",
            "\n"
          ]
        }
      ]
    },
    {
      "cell_type": "code",
      "source": [
        "# XGBoost\n",
        "import xgboost as xgb\n",
        "\n",
        "xgbm = xgb.XGBClassifier()\n",
        "xgbm.fit(x_train, y_train)\n",
        "y_pred = xgbm.predict(x_test)"
      ],
      "metadata": {
        "id": "I1UD5OIp8ayU"
      },
      "execution_count": 94,
      "outputs": []
    },
    {
      "cell_type": "code",
      "source": [
        "print(accuracy_score(y_test, y_pred))\n",
        "print(classification_report(y_test, y_pred))"
      ],
      "metadata": {
        "colab": {
          "base_uri": "https://localhost:8080/"
        },
        "id": "fF4k4lBH9S_a",
        "outputId": "40e48336-3deb-4647-eca6-641471f2df18"
      },
      "execution_count": 97,
      "outputs": [
        {
          "output_type": "stream",
          "name": "stdout",
          "text": [
            "0.6502407932011331\n",
            "              precision    recall  f1-score   support\n",
            "\n",
            "           0       0.86      0.67      0.75     55379\n",
            "           1       0.33      0.59      0.42     15221\n",
            "\n",
            "    accuracy                           0.65     70600\n",
            "   macro avg       0.59      0.63      0.59     70600\n",
            "weighted avg       0.74      0.65      0.68     70600\n",
            "\n"
          ]
        }
      ]
    },
    {
      "cell_type": "code",
      "source": [],
      "metadata": {
        "id": "xfgfFCvBf_86"
      },
      "execution_count": null,
      "outputs": []
    }
  ]
}